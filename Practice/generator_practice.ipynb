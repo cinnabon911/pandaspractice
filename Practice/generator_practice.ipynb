{
 "cells": [
  {
   "cell_type": "code",
   "execution_count": 2,
   "id": "2be6806e-6c0e-491b-bc0f-eef5269a885b",
   "metadata": {},
   "outputs": [],
   "source": [
    "#practice generator expression - yield\n",
    "#// stands for floor division which means dividing and rounding down to the nearest integer \n",
    "def is_palindrome(num):\n",
    "    if num//10==0:\n",
    "        return False\n",
    "    temp=num\n",
    "    reversed_num=0\n",
    "    \n",
    "    while temp!=0:\n",
    "        reversed_num=(reversed_num*10)+(temp%10)\n",
    "        temp=temp//10\n",
    "    if num==reversed_num:\n",
    "        return True\n",
    "    else:\n",
    "        return False\n",
    "        "
   ]
  },
  {
   "cell_type": "code",
   "execution_count": 3,
   "id": "4a7f9a0f-70db-4d5b-a5a2-65b3ae1c813f",
   "metadata": {},
   "outputs": [],
   "source": [
    "def infinite_palindromes():\n",
    "    num=0\n",
    "    while True:\n",
    "        if is_palindrome(num):\n",
    "            i=(yield num)\n",
    "            if i is not None:\n",
    "                num=i\n",
    "        num+=1"
   ]
  },
  {
   "cell_type": "code",
   "execution_count": 6,
   "id": "a742e8c0-8d12-4827-8b69-494ef642ecc2",
   "metadata": {},
   "outputs": [
    {
     "data": {
      "text/plain": [
       "True"
      ]
     },
     "execution_count": 6,
     "metadata": {},
     "output_type": "execute_result"
    }
   ],
   "source": [
    "is_palindrome(121)"
   ]
  },
  {
   "cell_type": "code",
   "execution_count": 15,
   "id": "ce960af2-7df7-4e63-831a-ad22dc2ea5cb",
   "metadata": {},
   "outputs": [],
   "source": [
    "pal_gen=infinite_palindromes()"
   ]
  },
  {
   "cell_type": "code",
   "execution_count": 8,
   "id": "df2d4e61-8ef5-43b1-87c3-7cd126efbc09",
   "metadata": {},
   "outputs": [
    {
     "data": {
      "text/plain": [
       "<generator object infinite_palindromes at 0x000001C2127B46D0>"
      ]
     },
     "execution_count": 8,
     "metadata": {},
     "output_type": "execute_result"
    }
   ],
   "source": [
    "pal_gen"
   ]
  },
  {
   "cell_type": "code",
   "execution_count": 9,
   "id": "92beb38b-42dd-419c-bf27-1f129b3ec8bb",
   "metadata": {},
   "outputs": [
    {
     "name": "stdout",
     "output_type": "stream",
     "text": [
      "11\n"
     ]
    }
   ],
   "source": [
    "print(next(pal_gen))"
   ]
  },
  {
   "cell_type": "code",
   "execution_count": 16,
   "id": "7400fae5-5aa3-4bc8-aa11-094e45438b50",
   "metadata": {},
   "outputs": [
    {
     "name": "stdout",
     "output_type": "stream",
     "text": [
      "11\n",
      "111\n",
      "1111\n",
      "10101\n"
     ]
    },
    {
     "ename": "ValueError",
     "evalue": "We don't like large palindromes",
     "output_type": "error",
     "traceback": [
      "\u001b[1;31m---------------------------------------------------------------------------\u001b[0m",
      "\u001b[1;31mValueError\u001b[0m                                Traceback (most recent call last)",
      "\u001b[1;32m~\\AppData\\Local\\Temp/ipykernel_35732/2199239465.py\u001b[0m in \u001b[0;36m<module>\u001b[1;34m\u001b[0m\n\u001b[0;32m      5\u001b[0m     \u001b[0mdigits\u001b[0m\u001b[1;33m=\u001b[0m\u001b[0mlen\u001b[0m\u001b[1;33m(\u001b[0m\u001b[0mstr\u001b[0m\u001b[1;33m(\u001b[0m\u001b[0mi\u001b[0m\u001b[1;33m)\u001b[0m\u001b[1;33m)\u001b[0m\u001b[1;33m\u001b[0m\u001b[1;33m\u001b[0m\u001b[0m\n\u001b[0;32m      6\u001b[0m     \u001b[1;32mif\u001b[0m \u001b[0mdigits\u001b[0m \u001b[1;33m==\u001b[0m \u001b[1;36m5\u001b[0m\u001b[1;33m:\u001b[0m\u001b[1;33m\u001b[0m\u001b[1;33m\u001b[0m\u001b[0m\n\u001b[1;32m----> 7\u001b[1;33m         \u001b[0mpal_gen\u001b[0m\u001b[1;33m.\u001b[0m\u001b[0mthrow\u001b[0m\u001b[1;33m(\u001b[0m\u001b[0mValueError\u001b[0m\u001b[1;33m(\u001b[0m\u001b[1;34m\"We don't like large palindromes\"\u001b[0m\u001b[1;33m)\u001b[0m\u001b[1;33m)\u001b[0m\u001b[1;33m\u001b[0m\u001b[1;33m\u001b[0m\u001b[0m\n\u001b[0m\u001b[0;32m      8\u001b[0m     \u001b[0mpal_gen\u001b[0m\u001b[1;33m.\u001b[0m\u001b[0msend\u001b[0m\u001b[1;33m(\u001b[0m\u001b[1;36m10\u001b[0m\u001b[1;33m**\u001b[0m\u001b[1;33m(\u001b[0m\u001b[0mdigits\u001b[0m\u001b[1;33m)\u001b[0m\u001b[1;33m)\u001b[0m\u001b[1;33m\u001b[0m\u001b[1;33m\u001b[0m\u001b[0m\n",
      "\u001b[1;32m~\\AppData\\Local\\Temp/ipykernel_35732/3293324263.py\u001b[0m in \u001b[0;36minfinite_palindromes\u001b[1;34m()\u001b[0m\n\u001b[0;32m      3\u001b[0m     \u001b[1;32mwhile\u001b[0m \u001b[1;32mTrue\u001b[0m\u001b[1;33m:\u001b[0m\u001b[1;33m\u001b[0m\u001b[1;33m\u001b[0m\u001b[0m\n\u001b[0;32m      4\u001b[0m         \u001b[1;32mif\u001b[0m \u001b[0mis_palindrome\u001b[0m\u001b[1;33m(\u001b[0m\u001b[0mnum\u001b[0m\u001b[1;33m)\u001b[0m\u001b[1;33m:\u001b[0m\u001b[1;33m\u001b[0m\u001b[1;33m\u001b[0m\u001b[0m\n\u001b[1;32m----> 5\u001b[1;33m             \u001b[0mi\u001b[0m\u001b[1;33m=\u001b[0m\u001b[1;33m(\u001b[0m\u001b[1;32myield\u001b[0m \u001b[0mnum\u001b[0m\u001b[1;33m)\u001b[0m\u001b[1;33m\u001b[0m\u001b[1;33m\u001b[0m\u001b[0m\n\u001b[0m\u001b[0;32m      6\u001b[0m             \u001b[1;32mif\u001b[0m \u001b[0mi\u001b[0m \u001b[1;32mis\u001b[0m \u001b[1;32mnot\u001b[0m \u001b[1;32mNone\u001b[0m\u001b[1;33m:\u001b[0m\u001b[1;33m\u001b[0m\u001b[1;33m\u001b[0m\u001b[0m\n\u001b[0;32m      7\u001b[0m                 \u001b[0mnum\u001b[0m\u001b[1;33m=\u001b[0m\u001b[0mi\u001b[0m\u001b[1;33m\u001b[0m\u001b[1;33m\u001b[0m\u001b[0m\n",
      "\u001b[1;31mValueError\u001b[0m: We don't like large palindromes"
     ]
    }
   ],
   "source": [
    "#send method sends the 10**digits back to the generator \n",
    "#throw method allows you to throw exception with generators\n",
    "for i in pal_gen:\n",
    "    print(i)\n",
    "    digits=len(str(i))\n",
    "    if digits == 5:\n",
    "        pal_gen.throw(ValueError(\"We don't like large palindromes\"))\n",
    "    pal_gen.send(10**(digits))"
   ]
  },
  {
   "cell_type": "code",
   "execution_count": 17,
   "id": "cbcf8fee-3272-44e2-ad0e-3a717e0d6e71",
   "metadata": {},
   "outputs": [],
   "source": [
    "file_name='techcrunch.csv'"
   ]
  },
  {
   "cell_type": "code",
   "execution_count": 18,
   "id": "d7f6927b-bf8c-4dc8-8573-c5433aa4479c",
   "metadata": {},
   "outputs": [],
   "source": [
    "lines=(line for line in open(file_name))"
   ]
  },
  {
   "cell_type": "code",
   "execution_count": 19,
   "id": "a95077b4-9ebc-4c8d-8e3b-958c021ec85b",
   "metadata": {},
   "outputs": [
    {
     "data": {
      "text/plain": [
       "<generator object <genexpr> at 0x000001C21286D270>"
      ]
     },
     "execution_count": 19,
     "metadata": {},
     "output_type": "execute_result"
    }
   ],
   "source": [
    "lines"
   ]
  },
  {
   "cell_type": "code",
   "execution_count": 25,
   "id": "c0366f04-cf4b-43be-9c30-f3edb336a043",
   "metadata": {},
   "outputs": [],
   "source": [
    "#create another generator that splits lines into lists, note use rstrip method to get rid of new line character\n",
    "list_line = (s.rstrip().split(',') for s in lines)"
   ]
  },
  {
   "cell_type": "code",
   "execution_count": 23,
   "id": "55913f04-dd2e-4ee4-984f-57e10ea79b78",
   "metadata": {},
   "outputs": [],
   "source": [
    "cols=next(list_line)"
   ]
  },
  {
   "cell_type": "code",
   "execution_count": 24,
   "id": "522fdd73-bec6-4762-9885-688eb1bb31ec",
   "metadata": {},
   "outputs": [
    {
     "data": {
      "text/plain": [
       "['permalink',\n",
       " 'company',\n",
       " 'numEmps',\n",
       " 'category',\n",
       " 'city',\n",
       " 'state',\n",
       " 'fundedDate',\n",
       " 'raisedAmt',\n",
       " 'raisedCurrency',\n",
       " 'round']"
      ]
     },
     "execution_count": 24,
     "metadata": {},
     "output_type": "execute_result"
    }
   ],
   "source": [
    "cols"
   ]
  },
  {
   "cell_type": "code",
   "execution_count": 58,
   "id": "9e44430d-3c63-4bed-b4f6-41984440d5b6",
   "metadata": {},
   "outputs": [],
   "source": [
    "company_dicts = (dict(zip(cols,data)) for data in list_line) "
   ]
  },
  {
   "cell_type": "code",
   "execution_count": 62,
   "id": "9a7b38c5-4584-4df5-8d8f-e9bdb02aa893",
   "metadata": {},
   "outputs": [
    {
     "ename": "StopIteration",
     "evalue": "",
     "output_type": "error",
     "traceback": [
      "\u001b[1;31m---------------------------------------------------------------------------\u001b[0m",
      "\u001b[1;31mStopIteration\u001b[0m                             Traceback (most recent call last)",
      "\u001b[1;32m~\\AppData\\Local\\Temp/ipykernel_35732/64451219.py\u001b[0m in \u001b[0;36m<module>\u001b[1;34m\u001b[0m\n\u001b[1;32m----> 1\u001b[1;33m \u001b[0mprint\u001b[0m\u001b[1;33m(\u001b[0m\u001b[0mnext\u001b[0m\u001b[1;33m(\u001b[0m\u001b[0mcompany_dicts\u001b[0m\u001b[1;33m)\u001b[0m\u001b[1;33m)\u001b[0m\u001b[1;33m\u001b[0m\u001b[1;33m\u001b[0m\u001b[0m\n\u001b[0m",
      "\u001b[1;31mStopIteration\u001b[0m: "
     ]
    }
   ],
   "source": [
    "print(next(company_dicts))"
   ]
  },
  {
   "cell_type": "code",
   "execution_count": 59,
   "id": "86b03f7b-0842-470b-8a14-899f49a2e4d1",
   "metadata": {},
   "outputs": [],
   "source": [
    "funding = (\n",
    "    int(company_dict['raisedAmt'])\n",
    "    for company_dict in company_dicts \n",
    "    if company_dict['round']=='a'\n",
    ")"
   ]
  },
  {
   "cell_type": "code",
   "execution_count": 60,
   "id": "a12fb418-7c06-4a4e-8519-2622052ff8a6",
   "metadata": {},
   "outputs": [],
   "source": [
    "total_series_a=sum(funding)"
   ]
  },
  {
   "cell_type": "code",
   "execution_count": 61,
   "id": "32adad0a-af8d-47d1-b3ad-1851e3286144",
   "metadata": {},
   "outputs": [
    {
     "data": {
      "text/plain": [
       "0"
      ]
     },
     "execution_count": 61,
     "metadata": {},
     "output_type": "execute_result"
    }
   ],
   "source": [
    "total_series_a"
   ]
  },
  {
   "cell_type": "code",
   "execution_count": 35,
   "id": "09552228-bbd1-4d84-b5fd-2f914f8b677d",
   "metadata": {},
   "outputs": [],
   "source": [
    "import pandas as pd"
   ]
  },
  {
   "cell_type": "code",
   "execution_count": 40,
   "id": "f5e6c5b9-6cf0-4f13-acc5-1222a1f4fa16",
   "metadata": {},
   "outputs": [],
   "source": [
    "df=pd.read_csv(file_name,encoding = \"ISO-8859-1\")"
   ]
  },
  {
   "cell_type": "code",
   "execution_count": 41,
   "id": "e63810fb-43cc-41ef-b7ae-50c18cb73cf4",
   "metadata": {},
   "outputs": [
    {
     "data": {
      "text/plain": [
       "(1460, 10)"
      ]
     },
     "execution_count": 41,
     "metadata": {},
     "output_type": "execute_result"
    }
   ],
   "source": [
    "df.shape"
   ]
  },
  {
   "cell_type": "code",
   "execution_count": 43,
   "id": "cbe6fd8e-961d-42f2-9cd2-d1b468f15466",
   "metadata": {},
   "outputs": [
    {
     "data": {
      "text/plain": [
       "Index(['permalink', 'company', 'numEmps', 'category', 'city', 'state',\n",
       "       'fundedDate', 'raisedAmt', 'raisedCurrency', 'round'],\n",
       "      dtype='object')"
      ]
     },
     "execution_count": 43,
     "metadata": {},
     "output_type": "execute_result"
    }
   ],
   "source": [
    "df.columns"
   ]
  },
  {
   "cell_type": "code",
   "execution_count": 44,
   "id": "d6c48fb6-b0c1-4533-9bd1-89e167117043",
   "metadata": {},
   "outputs": [],
   "source": [
    "rounda=df[df['round']=='a']['raisedAmt']"
   ]
  },
  {
   "cell_type": "code",
   "execution_count": 45,
   "id": "b70eea0b-c1e1-4df0-9249-d715ed74f114",
   "metadata": {},
   "outputs": [
    {
     "data": {
      "text/plain": [
       "4380015000"
      ]
     },
     "execution_count": 45,
     "metadata": {},
     "output_type": "execute_result"
    }
   ],
   "source": [
    "sum(rounda)"
   ]
  },
  {
   "cell_type": "code",
   "execution_count": 79,
   "id": "148140cd-6e06-4b20-90ff-062116c7fa3d",
   "metadata": {},
   "outputs": [
    {
     "name": "stdout",
     "output_type": "stream",
     "text": [
      "Total series A fundraising: $4376015000\n"
     ]
    }
   ],
   "source": [
    "#data pipeline, putting it altogether\n",
    "lines = (line for line in open(file_name))\n",
    "list_lines=(s.rstrip().split(\",\") for s in lines)\n",
    "cols=next(list_lines)\n",
    "company_dicts=(dict(zip(cols,data)) for data in list_lines)\n",
    "funding= (\n",
    "    int(company_dict['raisedAmt'])\n",
    "    for company_dict in company_dicts\n",
    "    if company_dict['round']=='a'\n",
    ")\n",
    "total_series_a = sum(funding)\n",
    "print(f\"Total series A fundraising: ${total_series_a}\")"
   ]
  },
  {
   "cell_type": "code",
   "execution_count": 66,
   "id": "45b4b2c3-a827-4ecf-83cb-21f31a1bc917",
   "metadata": {},
   "outputs": [],
   "source": [
    "num_lines = sum(1 for line in open(file_name))"
   ]
  },
  {
   "cell_type": "code",
   "execution_count": 74,
   "id": "5fbfd898-4c11-46ee-a495-9372a69d8e5d",
   "metadata": {},
   "outputs": [
    {
     "data": {
      "text/plain": [
       "1461"
      ]
     },
     "execution_count": 74,
     "metadata": {},
     "output_type": "execute_result"
    }
   ],
   "source": [
    "num_lines"
   ]
  },
  {
   "cell_type": "code",
   "execution_count": 80,
   "id": "8deb8371-a8d3-476e-9228-a6dcc59feaee",
   "metadata": {},
   "outputs": [
    {
     "name": "stdout",
     "output_type": "stream",
     "text": [
      "Average funding of Series A is $7531867.469879518\n"
     ]
    }
   ],
   "source": [
    "#exercise, get the average. Note, after using sum to count the lines the iterator is exhausted!\n",
    "lines = (line for line in open(file_name))\n",
    "list_lines=(s.rstrip().split(\",\") for s in lines)\n",
    "cols=next(list_lines)\n",
    "company_dicts=(dict(zip(cols,data)) for data in list_lines)\n",
    "funding= (\n",
    "    int(company_dict['raisedAmt'])\n",
    "    for company_dict in company_dicts\n",
    "    if company_dict['round']=='a'\n",
    ")\n",
    "num_a = sum(1 for line in funding)\n",
    "avg_fund=total_series_a/num_a\n",
    "print(f\"Average funding of Series A is ${avg_fund}\")"
   ]
  },
  {
   "cell_type": "code",
   "execution_count": 69,
   "id": "2b6168c1-24d0-4c86-9bc1-d59def9d558e",
   "metadata": {},
   "outputs": [
    {
     "data": {
      "text/plain": [
       "0"
      ]
     },
     "execution_count": 69,
     "metadata": {},
     "output_type": "execute_result"
    }
   ],
   "source": [
    "num_a"
   ]
  },
  {
   "cell_type": "code",
   "execution_count": null,
   "id": "c3a987c9-49dc-47e7-997f-0fb79b5d5049",
   "metadata": {},
   "outputs": [],
   "source": []
  }
 ],
 "metadata": {
  "kernelspec": {
   "display_name": "Python 3 (ipykernel)",
   "language": "python",
   "name": "python3"
  },
  "language_info": {
   "codemirror_mode": {
    "name": "ipython",
    "version": 3
   },
   "file_extension": ".py",
   "mimetype": "text/x-python",
   "name": "python",
   "nbconvert_exporter": "python",
   "pygments_lexer": "ipython3",
   "version": "3.9.7"
  }
 },
 "nbformat": 4,
 "nbformat_minor": 5
}
