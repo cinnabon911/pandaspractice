{
 "cells": [
  {
   "cell_type": "code",
   "execution_count": 1,
   "id": "4d9449ba-97b3-450f-9bef-21c73a4811a9",
   "metadata": {},
   "outputs": [],
   "source": [
    "import argparse\n",
    "import os"
   ]
  },
  {
   "cell_type": "code",
   "execution_count": 3,
   "id": "cc51ec8d-eadb-4abd-9f4c-bdd829eb2505",
   "metadata": {},
   "outputs": [],
   "source": [
    "def str2unix(input_str: str) -> str:\n",
    "    r\"\"\"Converts the string from \\r\\n line endings to \\n\n",
    "\n",
    "    Parameters\n",
    "    ----------\n",
    "    input_str\n",
    "        The string whose line endings will be converted\n",
    "\n",
    "    Returns\n",
    "    -------\n",
    "        The converted string\n",
    "    \"\"\"\n",
    "    r_str=input_str.replace('\\r\\n', '\\n')\n",
    "    return r_str"
   ]
  },
  {
   "cell_type": "code",
   "execution_count": 4,
   "id": "d86d6535-7493-41bd-a33a-88ff9214ecb9",
   "metadata": {},
   "outputs": [],
   "source": [
    "def dos2unix(source_file: str, dest_file: str):\n",
    "    with open(source_file, 'r') as reader:\n",
    "        dos_content = reader.read()\n",
    "        \n",
    "    unix_content = str2unix(dos_content)\n",
    "    \n",
    "    with open(dest_file, 'w') as writer:\n",
    "        writer.write(unix_content)\n",
    "    "
   ]
  },
  {
   "cell_type": "code",
   "execution_count": null,
   "id": "1825be07-d636-443c-9045-5101f4b18e7d",
   "metadata": {},
   "outputs": [],
   "source": []
  }
 ],
 "metadata": {
  "kernelspec": {
   "display_name": "Python 3 (ipykernel)",
   "language": "python",
   "name": "python3"
  },
  "language_info": {
   "codemirror_mode": {
    "name": "ipython",
    "version": 3
   },
   "file_extension": ".py",
   "mimetype": "text/x-python",
   "name": "python",
   "nbconvert_exporter": "python",
   "pygments_lexer": "ipython3",
   "version": "3.9.7"
  }
 },
 "nbformat": 4,
 "nbformat_minor": 5
}
